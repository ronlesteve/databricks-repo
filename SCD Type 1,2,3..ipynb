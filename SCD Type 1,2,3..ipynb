{
 "cells": [
  {
   "cell_type": "markdown",
   "metadata": {
    "application/vnd.databricks.v1+cell": {
     "cellMetadata": {},
     "inputWidgets": {},
     "nuid": "39102020-d5cf-45c3-abdf-bd7536658fc5",
     "showTitle": false,
     "tableResultSettingsMap": {},
     "title": ""
    }
   },
   "source": [
    "# **Step-by-step Instructional for SCD Type 1, 2, and 3**"
   ]
  },
  {
   "cell_type": "markdown",
   "metadata": {
    "application/vnd.databricks.v1+cell": {
     "cellMetadata": {},
     "inputWidgets": {},
     "nuid": "2ce73f80-8340-49dd-af95-499b3809948f",
     "showTitle": false,
     "tableResultSettingsMap": {},
     "title": ""
    }
   },
   "source": [
    "**Step 1: Setup - Generate Sample Data Using Faker in Python**\n",
    "\n",
    "Run this Python code in a notebook cell to generate fake customer data and save it as a Delta table."
   ]
  },
  {
   "cell_type": "code",
   "execution_count": 0,
   "metadata": {
    "application/vnd.databricks.v1+cell": {
     "cellMetadata": {
      "byteLimit": 2048000,
      "rowLimit": 10000
     },
     "inputWidgets": {},
     "nuid": "76a5c5fc-05b2-4f8f-b0f5-c37e4489fd84",
     "showTitle": false,
     "tableResultSettingsMap": {},
     "title": ""
    }
   },
   "outputs": [],
   "source": [
    "%pip install faker\n",
    "\n",
    "from faker import Faker\n",
    "import pandas as pd\n",
    "\n",
    "fake = Faker()\n",
    "\n",
    "# Generate 100 fake customers with id, name, address, and phone\n",
    "data = []\n",
    "for i in range(1, 101):\n",
    "    data.append({\n",
    "        \"customer_id\": i,\n",
    "        \"name\": fake.name(),\n",
    "        \"address\": fake.address().replace('\\n', ', '),\n",
    "        \"phone\": fake.phone_number()\n",
    "    })\n",
    "\n",
    "df = pd.DataFrame(data)\n",
    "\n",
    "# Save to Delta format as initial baseline\n",
    "spark.createDataFrame(df).write.format(\"delta\").mode(\"overwrite\").saveAsTable(\"customer_dim_base\")\n",
    "\n",
    "# Display the table using SQL\n",
    "display(\n",
    "    spark.sql(\n",
    "        \"SELECT * FROM customer_dim_base\"\n",
    "    )\n",
    ")"
   ]
  },
  {
   "cell_type": "markdown",
   "metadata": {
    "application/vnd.databricks.v1+cell": {
     "cellMetadata": {},
     "inputWidgets": {},
     "nuid": "0962207f-606d-4295-b624-327150be61ad",
     "showTitle": false,
     "tableResultSettingsMap": {},
     "title": ""
    }
   },
   "source": [
    "Step 2: Create initial dimension table with SCD Type 1 (Overwrite)"
   ]
  },
  {
   "cell_type": "code",
   "execution_count": 0,
   "metadata": {
    "application/vnd.databricks.v1+cell": {
     "cellMetadata": {
      "byteLimit": 2048000,
      "implicitDf": true,
      "rowLimit": 10000
     },
     "inputWidgets": {},
     "nuid": "28f37bac-e81c-4777-b7f0-16f129dee1b1",
     "showTitle": false,
     "tableResultSettingsMap": {},
     "title": ""
    }
   },
   "outputs": [],
   "source": [
    "%sql\n",
    "CREATE OR REPLACE TABLE customer_dim_scd1 AS\n",
    "SELECT * FROM customer_dim_base;\n",
    "\n",
    "SELECT * FROM customer_dim_scd1;"
   ]
  },
  {
   "cell_type": "markdown",
   "metadata": {
    "application/vnd.databricks.v1+cell": {
     "cellMetadata": {},
     "inputWidgets": {},
     "nuid": "4b336e5a-6dc2-487e-bdfb-22721d513e49",
     "showTitle": false,
     "tableResultSettingsMap": {},
     "title": ""
    }
   },
   "source": [
    "Step 3: Simulate an update source with changed addresses for some customers\n",
    "\n",
    "Run Python to generate updated data with address changes"
   ]
  },
  {
   "cell_type": "code",
   "execution_count": 0,
   "metadata": {
    "application/vnd.databricks.v1+cell": {
     "cellMetadata": {
      "byteLimit": 2048000,
      "rowLimit": 10000
     },
     "inputWidgets": {},
     "nuid": "bb2ef70d-9a04-4e8f-b2b2-7a474ad4764f",
     "showTitle": false,
     "tableResultSettingsMap": {},
     "title": ""
    }
   },
   "outputs": [],
   "source": [
    "import random\n",
    "\n",
    "updated_data = []\n",
    "for i in range(1, 101):\n",
    "    # 20% get updated address\n",
    "    if random.random() < 0.2:\n",
    "        new_addr = fake.address().replace('\\n', ', ')\n",
    "    else:\n",
    "        new_addr = df.loc[i-1, 'address']\n",
    "    updated_data.append({\n",
    "        \"customer_id\": i,\n",
    "        \"name\": df.loc[i-1, 'name'],\n",
    "        \"address\": new_addr,\n",
    "        \"phone\": df.loc[i-1, 'phone']\n",
    "    })\n",
    "\n",
    "updated_df = pd.DataFrame(updated_data)\n",
    "spark.createDataFrame(updated_df).createOrReplaceTempView(\"customer_dim_updates\")\n",
    "\n",
    "# Show updates by joining to existing table\n",
    "display(spark.sql(\"\"\"\n",
    "    SELECT \n",
    "        base.customer_id,\n",
    "        base.name AS old_name,\n",
    "        base.address AS old_address,\n",
    "        base.phone AS old_phone,\n",
    "        updates.name AS new_name,\n",
    "        updates.address AS new_address,\n",
    "        updates.phone AS new_phone\n",
    "    FROM customer_dim_base base\n",
    "    INNER JOIN customer_dim_updates updates\n",
    "        ON base.customer_id = updates.customer_id\n",
    "    WHERE base.address <> updates.address\n",
    "\"\"\"))"
   ]
  },
  {
   "cell_type": "markdown",
   "metadata": {
    "application/vnd.databricks.v1+cell": {
     "cellMetadata": {},
     "inputWidgets": {},
     "nuid": "18c5ee74-c769-43f9-bcab-03a30a0fbb5c",
     "showTitle": false,
     "tableResultSettingsMap": {},
     "title": ""
    }
   },
   "source": [
    "Step 4: SCD Type 1 update logic: overwrite existing rows"
   ]
  },
  {
   "cell_type": "code",
   "execution_count": 0,
   "metadata": {
    "application/vnd.databricks.v1+cell": {
     "cellMetadata": {
      "byteLimit": 2048000,
      "implicitDf": true,
      "rowLimit": 10000
     },
     "inputWidgets": {},
     "nuid": "3824ffb6-e94c-4c33-9e31-0b0a08689fc4",
     "showTitle": false,
     "tableResultSettingsMap": {},
     "title": ""
    }
   },
   "outputs": [],
   "source": [
    "%sql\n",
    "MERGE INTO customer_dim_scd1 AS target\n",
    "USING customer_dim_updates AS source\n",
    "ON target.customer_id = source.customer_id\n",
    "WHEN MATCHED AND (\n",
    "  target.name <> source.name OR\n",
    "  target.address <> source.address OR\n",
    "  target.phone <> source.phone\n",
    ") THEN\n",
    "  UPDATE SET\n",
    "    name = source.name,\n",
    "    address = source.address,\n",
    "    phone = source.phone;"
   ]
  },
  {
   "cell_type": "markdown",
   "metadata": {
    "application/vnd.databricks.v1+cell": {
     "cellMetadata": {},
     "inputWidgets": {},
     "nuid": "5ac98490-a6a2-48ba-b55e-706997b9c4de",
     "showTitle": false,
     "tableResultSettingsMap": {},
     "title": ""
    }
   },
   "source": [
    "Step 5: Create base SCD Type 2 table with versioning columns"
   ]
  },
  {
   "cell_type": "code",
   "execution_count": 0,
   "metadata": {
    "application/vnd.databricks.v1+cell": {
     "cellMetadata": {
      "byteLimit": 2048000,
      "implicitDf": true,
      "rowLimit": 10000
     },
     "inputWidgets": {},
     "nuid": "2aa96546-2618-4d66-91d3-85b451ff80d0",
     "showTitle": false,
     "tableResultSettingsMap": {},
     "title": ""
    }
   },
   "outputs": [],
   "source": [
    "%sql\n",
    "CREATE OR REPLACE TABLE customer_dim_scd2 (\n",
    "  customer_id INT,\n",
    "  name STRING,\n",
    "  address STRING,\n",
    "  phone STRING,\n",
    "  start_date DATE,\n",
    "  end_date DATE,\n",
    "  current_flag BOOLEAN\n",
    ")\n",
    "USING DELTA;"
   ]
  },
  {
   "cell_type": "markdown",
   "metadata": {
    "application/vnd.databricks.v1+cell": {
     "cellMetadata": {},
     "inputWidgets": {},
     "nuid": "823dfb80-0188-49e9-a8a8-64f5d001188f",
     "showTitle": false,
     "tableResultSettingsMap": {},
     "title": ""
    }
   },
   "source": [
    "Step 6: Insert initial records for SCD Type 2"
   ]
  },
  {
   "cell_type": "code",
   "execution_count": 0,
   "metadata": {
    "application/vnd.databricks.v1+cell": {
     "cellMetadata": {
      "byteLimit": 2048000,
      "implicitDf": true,
      "rowLimit": 10000
     },
     "inputWidgets": {},
     "nuid": "66a29000-6591-4eee-ab6a-8cc9d809f1c8",
     "showTitle": false,
     "tableResultSettingsMap": {},
     "title": ""
    }
   },
   "outputs": [],
   "source": [
    "%sql\n",
    "INSERT INTO customer_dim_scd2\n",
    "SELECT customer_id, name, address, phone, current_date() AS start_date, DATE('9999-12-31') AS end_date, TRUE AS current_flag\n",
    "FROM customer_dim_base;"
   ]
  },
  {
   "cell_type": "markdown",
   "metadata": {
    "application/vnd.databricks.v1+cell": {
     "cellMetadata": {},
     "inputWidgets": {},
     "nuid": "a4f4c7c8-25cc-4cf2-8a0d-15345aad4399",
     "showTitle": false,
     "tableResultSettingsMap": {},
     "title": ""
    }
   },
   "source": [
    "Step 7: SCD Type 2 MERGE logic for changes detection and history preservation"
   ]
  },
  {
   "cell_type": "code",
   "execution_count": 0,
   "metadata": {
    "application/vnd.databricks.v1+cell": {
     "cellMetadata": {
      "byteLimit": 2048000,
      "implicitDf": true,
      "rowLimit": 10000
     },
     "inputWidgets": {},
     "nuid": "e67b64ee-a3bc-40dc-b32d-c05c901e0496",
     "showTitle": false,
     "tableResultSettingsMap": {},
     "title": ""
    }
   },
   "outputs": [],
   "source": [
    "%sql\n",
    "MERGE INTO customer_dim_scd2 AS target\n",
    "USING (\n",
    "  SELECT \n",
    "    customer_id AS merge_key,\n",
    "    name,\n",
    "    address,\n",
    "    phone,\n",
    "    current_date() AS effective_date\n",
    "  FROM customer_dim_updates\n",
    "\n",
    "  UNION ALL\n",
    "\n",
    "  SELECT \n",
    "    NULL AS merge_key,\n",
    "    u.name,\n",
    "    u.address,\n",
    "    u.phone,\n",
    "    current_date() AS effective_date\n",
    "  FROM customer_dim_updates u\n",
    "  INNER JOIN customer_dim_scd2 t\n",
    "    ON u.customer_id = t.customer_id\n",
    "  WHERE t.current_flag = TRUE\n",
    "    AND (\n",
    "      t.name <> u.name OR\n",
    "      t.address <> u.address OR\n",
    "      t.phone <> u.phone\n",
    "    )\n",
    ") AS staged_updates\n",
    "ON target.customer_id = staged_updates.merge_key\n",
    "\n",
    "WHEN MATCHED AND target.current_flag = TRUE AND (\n",
    "  target.name <> staged_updates.name OR\n",
    "  target.address <> staged_updates.address OR\n",
    "  target.phone <> staged_updates.phone\n",
    ") THEN\n",
    "  UPDATE SET\n",
    "    end_date = staged_updates.effective_date,\n",
    "    current_flag = FALSE\n",
    "\n",
    "WHEN NOT MATCHED THEN\n",
    "  INSERT (\n",
    "    customer_id, name, address, phone, start_date, end_date, current_flag\n",
    "  )\n",
    "  VALUES (\n",
    "    staged_updates.merge_key, staged_updates.name, staged_updates.address, staged_updates.phone, staged_updates.effective_date, DATE('9999-12-31'), TRUE\n",
    "  )\n",
    ";"
   ]
  },
  {
   "cell_type": "code",
   "execution_count": 0,
   "metadata": {
    "application/vnd.databricks.v1+cell": {
     "cellMetadata": {
      "byteLimit": 2048000,
      "rowLimit": 10000
     },
     "inputWidgets": {},
     "nuid": "39d1015e-7540-410e-86bf-6d5e93841662",
     "showTitle": false,
     "tableResultSettingsMap": {},
     "title": ""
    }
   },
   "outputs": [],
   "source": [
    "display(spark.sql(\"SELECT * FROM customer_dim_scd2\"))"
   ]
  },
  {
   "cell_type": "markdown",
   "metadata": {
    "application/vnd.databricks.v1+cell": {
     "cellMetadata": {},
     "inputWidgets": {},
     "nuid": "1245c376-ab11-4c6b-a01a-9cb8bf5feb39",
     "showTitle": false,
     "tableResultSettingsMap": {},
     "title": ""
    }
   },
   "source": [
    "Step 8: SCD Type 3 example: Limited history with old value columns\n",
    "\n",
    "Start with a base SCD3 table including old address and phone"
   ]
  },
  {
   "cell_type": "code",
   "execution_count": 0,
   "metadata": {
    "application/vnd.databricks.v1+cell": {
     "cellMetadata": {
      "byteLimit": 2048000,
      "implicitDf": true,
      "rowLimit": 10000
     },
     "inputWidgets": {},
     "nuid": "b6223544-4609-4425-aca0-ce799400c907",
     "showTitle": false,
     "tableResultSettingsMap": {},
     "title": ""
    }
   },
   "outputs": [],
   "source": [
    "%sql\n",
    "CREATE OR REPLACE TABLE customer_dim_scd3 (\n",
    "  customer_id INT,\n",
    "  name STRING,\n",
    "  address STRING,\n",
    "  old_address STRING,\n",
    "  phone STRING,\n",
    "  old_phone STRING\n",
    ")\n",
    "USING DELTA;"
   ]
  },
  {
   "cell_type": "markdown",
   "metadata": {
    "application/vnd.databricks.v1+cell": {
     "cellMetadata": {},
     "inputWidgets": {},
     "nuid": "2846ad33-0257-4a43-88cd-f3e2372b5f8e",
     "showTitle": false,
     "tableResultSettingsMap": {},
     "title": ""
    }
   },
   "source": [
    "Step 9: Insert initial data for SCD3"
   ]
  },
  {
   "cell_type": "code",
   "execution_count": 0,
   "metadata": {
    "application/vnd.databricks.v1+cell": {
     "cellMetadata": {
      "byteLimit": 2048000,
      "implicitDf": true,
      "rowLimit": 10000
     },
     "inputWidgets": {},
     "nuid": "85b8bcce-d47d-4c7a-9a19-baeed28d8135",
     "showTitle": false,
     "tableResultSettingsMap": {},
     "title": ""
    }
   },
   "outputs": [],
   "source": [
    "%sql\n",
    "INSERT INTO customer_dim_scd3\n",
    "SELECT customer_id, name, address, NULL AS old_address, phone, NULL AS old_phone\n",
    "FROM customer_dim_base;"
   ]
  },
  {
   "cell_type": "markdown",
   "metadata": {
    "application/vnd.databricks.v1+cell": {
     "cellMetadata": {},
     "inputWidgets": {},
     "nuid": "f527c4d7-8d3d-4b9a-a139-4ed356135b80",
     "showTitle": false,
     "tableResultSettingsMap": {},
     "title": ""
    }
   },
   "source": [
    "Step 10: SCD Type 3 Merge example: update current + store old values on change"
   ]
  },
  {
   "cell_type": "code",
   "execution_count": 0,
   "metadata": {
    "application/vnd.databricks.v1+cell": {
     "cellMetadata": {
      "byteLimit": 2048000,
      "implicitDf": true,
      "rowLimit": 10000
     },
     "inputWidgets": {},
     "nuid": "495124d8-fa89-49dc-b931-b8798830cea8",
     "showTitle": false,
     "tableResultSettingsMap": {},
     "title": ""
    }
   },
   "outputs": [],
   "source": [
    "%sql\n",
    "MERGE INTO customer_dim_scd3 AS target\n",
    "USING customer_dim_updates AS source\n",
    "ON target.customer_id = source.customer_id\n",
    "WHEN MATCHED AND (\n",
    "    (target.address IS DISTINCT FROM source.address) OR\n",
    "    (target.phone IS DISTINCT FROM source.phone)\n",
    ") THEN\n",
    "  UPDATE SET\n",
    "    old_address = target.address,\n",
    "    address = source.address,\n",
    "    old_phone = target.phone,\n",
    "    phone = source.phone\n",
    "WHEN NOT MATCHED THEN\n",
    "  INSERT (customer_id, name, address, old_address, phone, old_phone)\n",
    "  VALUES (source.customer_id, source.name, source.address, NULL, source.phone, NULL);"
   ]
  },
  {
   "cell_type": "code",
   "execution_count": 0,
   "metadata": {
    "application/vnd.databricks.v1+cell": {
     "cellMetadata": {
      "byteLimit": 2048000,
      "rowLimit": 10000
     },
     "inputWidgets": {},
     "nuid": "64a58374-7399-4816-a29b-162aae167005",
     "showTitle": false,
     "tableResultSettingsMap": {},
     "title": ""
    }
   },
   "outputs": [],
   "source": [
    "display(spark.sql(\"SELECT * FROM customer_dim_scd3\"))"
   ]
  },
  {
   "cell_type": "markdown",
   "metadata": {
    "application/vnd.databricks.v1+cell": {
     "cellMetadata": {},
     "inputWidgets": {},
     "nuid": "dc973dd4-e5b7-4cc7-99b9-a944f3ee303a",
     "showTitle": false,
     "tableResultSettingsMap": {},
     "title": ""
    }
   },
   "source": [
    "Drop all tables and Clean up resources"
   ]
  },
  {
   "cell_type": "code",
   "execution_count": 0,
   "metadata": {
    "application/vnd.databricks.v1+cell": {
     "cellMetadata": {
      "byteLimit": 2048000,
      "rowLimit": 10000
     },
     "inputWidgets": {},
     "nuid": "6e75dc6f-95f6-4e16-82bc-5e452a55cbb4",
     "showTitle": false,
     "tableResultSettingsMap": {},
     "title": ""
    }
   },
   "outputs": [],
   "source": [
    "tables_to_drop = [\n",
    "    \"customer_dim_base\",\n",
    "    \"customer_dim_updates\",\n",
    "    \"customer_dim_scd1\"\n",
    "    \"customer_dim_scd2\",\n",
    "    \"customer_dim_scd3\"\n",
    "]\n",
    "\n",
    "for tbl in tables_to_drop:\n",
    "    spark.sql(f\"DROP TABLE IF EXISTS {tbl}\")\n",
    "\n",
    "# Confirm deletion\n",
    "display(spark.sql(\"\"\"\n",
    "    SELECT *\n",
    "    FROM information_schema.tables\n",
    "    WHERE table_name IN ('customer_dim_base','customer_dim_updates', 'customer_dim_scd1' 'customer_dim_scd2', 'customer_dim_scd3')\n",
    "\"\"\"))"
   ]
  }
 ],
 "metadata": {
  "application/vnd.databricks.v1+notebook": {
   "computePreferences": null,
   "dashboards": [],
   "environmentMetadata": {
    "base_environment": "",
    "environment_version": "2"
   },
   "inputWidgetPreferences": null,
   "language": "python",
   "notebookMetadata": {
    "mostRecentlyExecutedCommandWithImplicitDF": {
     "commandId": 3088703135555857,
     "dataframes": [
      "_sqldf"
     ]
    },
    "pythonIndentUnit": 4
   },
   "notebookName": "SCD Type 1,2,3.",
   "widgets": {}
  },
  "language_info": {
   "name": "python"
  }
 },
 "nbformat": 4,
 "nbformat_minor": 0
}
