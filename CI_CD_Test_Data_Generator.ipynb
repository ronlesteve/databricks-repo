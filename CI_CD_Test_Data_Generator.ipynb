{
 "cells": [
  {
   "cell_type": "markdown",
   "metadata": {
    "application/vnd.databricks.v1+cell": {
     "cellMetadata": {},
     "inputWidgets": {},
     "nuid": "d9f3d6a8-e2e4-42c8-8786-3c34a1246ef9",
     "showTitle": false,
     "tableResultSettingsMap": {},
     "title": ""
    }
   },
   "source": [
    "%md\n",
    "# CI/CD Test Data Generator  \n",
    "This notebook generates sample employee data for testing ETL and CI/CD pipelines in Databricks.\n"
   ]
  },
  {
   "cell_type": "code",
   "execution_count": 0,
   "metadata": {
    "application/vnd.databricks.v1+cell": {
     "cellMetadata": {
      "byteLimit": 2048000,
      "rowLimit": 10000
     },
     "inputWidgets": {},
     "nuid": "0eb00fc5-02a6-4338-98ed-7984ab725581",
     "showTitle": false,
     "tableResultSettingsMap": {},
     "title": ""
    }
   },
   "outputs": [],
   "source": [
    "from pyspark.sql.types import StructType, StructField, StringType, IntegerType, FloatType\n",
    "from pyspark.sql import SparkSession\n",
    "\n",
    "# Create Spark session (usually pre-created in Databricks notebooks)\n",
    "spark = SparkSession.builder.appName(\"TestFakeData\").getOrCreate()\n",
    "\n",
    "# Define schema for sample data\n",
    "schema = StructType([\n",
    "    StructField(\"id\", IntegerType(), True),\n",
    "    StructField(\"name\", StringType(), True),\n",
    "    StructField(\"age\", IntegerType(), True),\n",
    "    StructField(\"department\", StringType(), True),\n",
    "    StructField(\"salary\", FloatType(), True),\n",
    "])\n",
    "\n",
    "# Create sample data\n",
    "data = [\n",
    "    (1, \"Alice\", 29, \"Engineering\", 85000.0),\n",
    "    (2, \"Bob\", 35, \"Marketing\", 65000.0),\n",
    "    (3, \"Charlie\", 40, \"Finance\", 70000.0),\n",
    "    (4, \"Diana\", 23, \"Engineering\", 90000.0),\n",
    "    (5, \"Evan\", 31, \"HR\", 60000.0),\n",
    "]\n",
    "\n",
    "# Create DataFrame with fake data\n",
    "df = spark.createDataFrame(data, schema=schema)\n",
    "\n",
    "# Register DataFrame as a temp view for SQL testing\n",
    "df.createOrReplaceTempView(\"employees\")\n",
    "\n",
    "# Show the data\n",
    "df.show()\n",
    "\n",
    "# Example query to test CI/CD\n",
    "result = spark.sql(\"\"\"\n",
    "    SELECT department, AVG(salary) AS avg_salary, COUNT(*) AS employee_count\n",
    "    FROM employees\n",
    "    GROUP BY department\n",
    "\"\"\")\n",
    "\n",
    "result.show()\n"
   ]
  },
  {
   "cell_type": "markdown",
   "metadata": {
    "application/vnd.databricks.v1+cell": {
     "cellMetadata": {},
     "inputWidgets": {},
     "nuid": "a609b344-9120-4291-b8f3-d2cfee74fc7f",
     "showTitle": false,
     "tableResultSettingsMap": {},
     "title": ""
    }
   },
   "source": [
    "Adding new data to test notebook"
   ]
  },
  {
   "cell_type": "code",
   "execution_count": 0,
   "metadata": {
    "application/vnd.databricks.v1+cell": {
     "cellMetadata": {},
     "inputWidgets": {},
     "nuid": "ed7f3c67-cd8a-4487-ba9c-5b904dc0d0e0",
     "showTitle": false,
     "tableResultSettingsMap": {},
     "title": ""
    }
   },
   "outputs": [],
   "source": [
    "from pyspark.sql.functions import count, col\n",
    "\n",
    "# Check for missing values in each column\n",
    "for c in df.columns:\n",
    "    missing = df.filter(col(c).isNull()).count()\n",
    "    print(f\"Missing values in column '{c}': {missing}\")\n",
    "\n",
    "# Check that 'id' column is unique\n",
    "unique_count = df.select('id').distinct().count()\n",
    "total_count = df.count()\n",
    "assert unique_count == total_count, \"ID column has duplicates!\"\n",
    "\n",
    "print(\"Data quality checks passed!\")\n"
   ]
  }
 ],
 "metadata": {
  "application/vnd.databricks.v1+notebook": {
   "computePreferences": null,
   "dashboards": [],
   "environmentMetadata": {
    "base_environment": "",
    "environment_version": "3"
   },
   "inputWidgetPreferences": null,
   "language": "python",
   "notebookMetadata": {
    "pythonIndentUnit": 4
   },
   "notebookName": "CI_CD_Test_Data_Generator",
   "widgets": {}
  },
  "language_info": {
   "name": "python"
  }
 },
 "nbformat": 4,
 "nbformat_minor": 0
}
