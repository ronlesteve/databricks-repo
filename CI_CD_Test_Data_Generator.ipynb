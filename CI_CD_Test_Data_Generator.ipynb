{
 "cells": [
  {
   "cell_type": "markdown",
   "metadata": {
    "application/vnd.databricks.v1+cell": {
     "cellMetadata": {},
     "inputWidgets": {},
     "nuid": "d9f3d6a8-e2e4-42c8-8786-3c34a1246ef9",
     "showTitle": false,
     "tableResultSettingsMap": {},
     "title": ""
    }
   },
   "source": [
    "%md\n",
    "# CI/CD Test Data Generator  \n",
    "This notebook generates sample employee data for testing ETL and CI/CD pipelines in Databricks.\n"
   ]
  },
  {
   "cell_type": "code",
   "execution_count": 0,
   "metadata": {
    "application/vnd.databricks.v1+cell": {
     "cellMetadata": {
      "byteLimit": 2048000,
      "rowLimit": 10000
     },
     "inputWidgets": {},
     "nuid": "0eb00fc5-02a6-4338-98ed-7984ab725581",
     "showTitle": false,
     "tableResultSettingsMap": {},
     "title": ""
    }
   },
   "outputs": [],
   "source": [
    "from pyspark.sql.types import StructType, StructField, StringType, IntegerType, FloatType\n",
    "from pyspark.sql import SparkSession\n",
    "\n",
    "# Create Spark session (usually pre-created in Databricks notebooks)\n",
    "spark = SparkSession.builder.appName(\"TestFakeData\").getOrCreate()\n",
    "\n",
    "# Define schema for sample data\n",
    "schema = StructType([\n",
    "    StructField(\"id\", IntegerType(), True),\n",
    "    StructField(\"name\", StringType(), True),\n",
    "    StructField(\"age\", IntegerType(), True),\n",
    "    StructField(\"department\", StringType(), True),\n",
    "    StructField(\"salary\", FloatType(), True),\n",
    "])\n",
    "\n",
    "# Create sample data\n",
    "data = [\n",
    "    (1, \"Alice\", 29, \"Engineering\", 85000.0),\n",
    "    (2, \"Bob\", 35, \"Marketing\", 65000.0),\n",
    "    (3, \"Charlie\", 40, \"Finance\", 70000.0),\n",
    "    (4, \"Diana\", 23, \"Engineering\", 90000.0),\n",
    "    (5, \"Evan\", 31, \"HR\", 60000.0),\n",
    "]\n",
    "\n",
    "# Create DataFrame with fake data\n",
    "df = spark.createDataFrame(data, schema=schema)\n",
    "\n",
    "# Register DataFrame as a temp view for SQL testing\n",
    "df.createOrReplaceTempView(\"employees\")\n",
    "\n",
    "# Show the data\n",
    "df.show()\n",
    "\n",
    "# Example query to test CI/CD\n",
    "result = spark.sql(\"\"\"\n",
    "    SELECT department, AVG(salary) AS avg_salary, COUNT(*) AS employee_count\n",
    "    FROM employees\n",
    "    GROUP BY department\n",
    "\"\"\")\n",
    "\n",
    "result.show()\n"
   ]
  },
  {
   "cell_type": "markdown",
   "metadata": {
    "application/vnd.databricks.v1+cell": {
     "cellMetadata": {},
     "inputWidgets": {},
     "nuid": "a609b344-9120-4291-b8f3-d2cfee74fc7f",
     "showTitle": false,
     "tableResultSettingsMap": {},
     "title": ""
    }
   },
   "source": [
    "Adding new data to test notebook"
   ]
  },
  {
   "cell_type": "code",
   "execution_count": 0,
   "metadata": {
    "application/vnd.databricks.v1+cell": {
     "cellMetadata": {},
     "inputWidgets": {},
     "nuid": "e71c7489-3c82-4884-8b70-b3f140646c82",
     "showTitle": false,
     "tableResultSettingsMap": {},
     "title": ""
    }
   },
   "outputs": [],
   "source": [
    "from pyspark.sql.functions import col\n",
    "\n",
    "# Define test function to validate avg salary per department results\n",
    "def test_avg_salary(df):\n",
    "    # Expected average salary for Engineering\n",
    "    eng_avg_salary = df.filter(col(\"department\") == \"Engineering\").select(\"avg_salary\").collect()[0][0]\n",
    "    assert abs(eng_avg_salary - 87500.0) < 0.01, f\"Engineering avg salary test failed: {eng_avg_salary}\"\n",
    "\n",
    "    # Expected employee count for HR\n",
    "    hr_count = df.filter(col(\"department\") == \"HR\").select(\"employee_count\").collect()[0][0]\n",
    "    assert hr_count == 1, f\"HR employee count test failed: {hr_count}\"\n",
    "\n",
    "    print(\"All tests passed!\")\n",
    "\n",
    "# Run your existing SQL query\n",
    "result = spark.sql(\"\"\"\n",
    "    SELECT department, AVG(salary) AS avg_salary, COUNT(*) AS employee_count\n",
    "    FROM employees\n",
    "    GROUP BY department\n",
    "\"\"\")\n",
    "\n",
    "# Show the result for visibility\n",
    "result.show()\n",
    "\n",
    "# Run the test validation\n",
    "test_avg_salary(result)\n"
   ]
  }
 ],
 "metadata": {
  "application/vnd.databricks.v1+notebook": {
   "computePreferences": null,
   "dashboards": [],
   "environmentMetadata": {
    "base_environment": "",
    "environment_version": "3"
   },
   "inputWidgetPreferences": null,
   "language": "python",
   "notebookMetadata": {
    "pythonIndentUnit": 4
   },
   "notebookName": "CI_CD_Test_Data_Generator",
   "widgets": {}
  },
  "language_info": {
   "name": "python"
  }
 },
 "nbformat": 4,
 "nbformat_minor": 0
}
