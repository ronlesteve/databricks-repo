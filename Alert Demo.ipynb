{
 "cells": [
  {
   "cell_type": "markdown",
   "metadata": {
    "application/vnd.databricks.v1+cell": {
     "cellMetadata": {},
     "inputWidgets": {},
     "nuid": "8b8eff72-c0bc-479b-b623-640b15fecc4b",
     "showTitle": false,
     "tableResultSettingsMap": {},
     "title": ""
    }
   },
   "source": [
    "# **SQL Count Alert Demo in Databricks**"
   ]
  },
  {
   "cell_type": "markdown",
   "metadata": {
    "application/vnd.databricks.v1+cell": {
     "cellMetadata": {},
     "inputWidgets": {},
     "nuid": "a36c055d-0c39-41a4-abb8-5d99dec5b61c",
     "showTitle": false,
     "tableResultSettingsMap": {},
     "title": ""
    }
   },
   "source": [
    "1. Create Source and Target Tables"
   ]
  },
  {
   "cell_type": "code",
   "execution_count": 0,
   "metadata": {
    "application/vnd.databricks.v1+cell": {
     "cellMetadata": {
      "byteLimit": 2048000,
      "implicitDf": true,
      "rowLimit": 10000
     },
     "inputWidgets": {},
     "nuid": "1dc21cef-9a35-4bd7-af93-6b5e58a20cd2",
     "showTitle": false,
     "tableResultSettingsMap": {},
     "title": ""
    }
   },
   "outputs": [],
   "source": [
    "%sql\n",
    "DROP TABLE IF EXISTS demo_source;\n",
    "DROP TABLE IF EXISTS demo_target;\n",
    "\n",
    "CREATE OR REPLACE TABLE demo_source (\n",
    "  id INT,\n",
    "  name STRING,\n",
    "  value INT\n",
    ");\n",
    "\n",
    "INSERT OVERWRITE demo_source VALUES (1, 'A', 100), (2, 'B', 200);\n",
    "\n",
    "CREATE OR REPLACE TABLE demo_target (\n",
    "  id INT,\n",
    "  name STRING,\n",
    "  value INT\n",
    ");\n",
    "\n",
    "INSERT OVERWRITE demo_target SELECT * FROM demo_source;\n"
   ]
  },
  {
   "cell_type": "code",
   "execution_count": 0,
   "metadata": {
    "application/vnd.databricks.v1+cell": {
     "cellMetadata": {
      "byteLimit": 2048000,
      "implicitDf": true,
      "rowLimit": 10000
     },
     "inputWidgets": {},
     "nuid": "2c137e4f-234d-4f3e-8556-c6d6362656b0",
     "showTitle": false,
     "tableResultSettingsMap": {},
     "title": ""
    }
   },
   "outputs": [],
   "source": [
    "%sql\n",
    "SELECT \n",
    "  column_name,\n",
    "  source_count,\n",
    "  target_count,\n",
    "  CASE WHEN source_count != target_count THEN 1 ELSE 0 END AS mismatch_flag\n",
    "FROM (\n",
    "  SELECT 'id' AS column_name,\n",
    "    (SELECT COUNT(id) FROM demo_source) AS source_count,\n",
    "    (SELECT COUNT(id) FROM demo_target) AS target_count\n",
    "  UNION ALL\n",
    "  SELECT 'name' AS column_name,\n",
    "    (SELECT COUNT(name) FROM demo_source),\n",
    "    (SELECT COUNT(name) FROM demo_target)\n",
    "  UNION ALL\n",
    "  SELECT 'value' AS column_name,\n",
    "    (SELECT COUNT(value) FROM demo_source),\n",
    "    (SELECT COUNT(value) FROM demo_target)\n",
    ") t"
   ]
  },
  {
   "cell_type": "code",
   "execution_count": 0,
   "metadata": {
    "application/vnd.databricks.v1+cell": {
     "cellMetadata": {
      "byteLimit": 2048000,
      "rowLimit": 10000
     },
     "inputWidgets": {},
     "nuid": "3f9e3bf3-02a5-4f08-b87b-5ef8d5e922bc",
     "showTitle": false,
     "tableResultSettingsMap": {},
     "title": ""
    }
   },
   "outputs": [],
   "source": [
    "pip install faker"
   ]
  },
  {
   "cell_type": "markdown",
   "metadata": {
    "application/vnd.databricks.v1+cell": {
     "cellMetadata": {},
     "inputWidgets": {},
     "nuid": "63105d3b-0c12-49c2-9e1b-9a39da4994c5",
     "showTitle": false,
     "tableResultSettingsMap": {},
     "title": ""
    }
   },
   "source": [
    "2. Create and Parameterize Pipeline Notebook with Conditional Data Load"
   ]
  },
  {
   "cell_type": "code",
   "execution_count": 0,
   "metadata": {
    "application/vnd.databricks.v1+cell": {
     "cellMetadata": {
      "byteLimit": 2048000,
      "rowLimit": 10000
     },
     "inputWidgets": {},
     "nuid": "545d9c51-c7d1-4fb1-8e95-cf14fbe9ddbd",
     "showTitle": false,
     "tableResultSettingsMap": {},
     "title": ""
    }
   },
   "outputs": [],
   "source": [
    "from faker import Faker\n",
    "import random\n",
    "from pyspark.sql.types import StructType, StructField, IntegerType, StringType\n",
    "\n",
    "\n",
    "run_count = int(dbutils.widgets.get(\"run_count\"))\n",
    "\n",
    "\n",
    "fake = Faker()\n",
    "\n",
    "\n",
    "schema = StructType([\n",
    "    StructField(\"id\", IntegerType(), False),\n",
    "    StructField(\"name\", StringType(), False),\n",
    "    StructField(\"value\", IntegerType(), False)\n",
    "])\n",
    "\n",
    "\n",
    "def generate_fake_data(num_rows=2):\n",
    "    data = []\n",
    "    for i in range(num_rows):\n",
    "        row = (\n",
    "            i + 1,\n",
    "            fake.first_name(),\n",
    "            random.randint(50, 300)\n",
    "        )\n",
    "        data.append(row)\n",
    "    return spark.createDataFrame(data, schema=schema)\n",
    "\n",
    "\n",
    "# Generate new fake data each run\n",
    "source_df = generate_fake_data()\n",
    "\n",
    "# Append to source table every run\n",
    "source_df.write.mode(\"append\").saveAsTable(\"demo_source\")\n",
    "display(source_df)\n",
    "\n",
    "\n",
    "if run_count in [1, 2, 4]:\n",
    "    # Append to target on runs 1, 2, and 4\n",
    "    source_df.write.mode(\"append\").saveAsTable(\"demo_target\")\n",
    "    display(source_df)\n",
    "elif run_count == 3:\n",
    "    # Skip target load on run 3 to simulate mismatch\n",
    "    pass\n"
   ]
  },
  {
   "cell_type": "markdown",
   "metadata": {
    "application/vnd.databricks.v1+cell": {
     "cellMetadata": {},
     "inputWidgets": {},
     "nuid": "e8bd0051-004a-4b68-b223-63eefc5893c9",
     "showTitle": false,
     "tableResultSettingsMap": {},
     "title": ""
    }
   },
   "source": [
    "Source to Target Count Query"
   ]
  },
  {
   "cell_type": "code",
   "execution_count": 0,
   "metadata": {
    "application/vnd.databricks.v1+cell": {
     "cellMetadata": {
      "byteLimit": 2048000,
      "implicitDf": true,
      "rowLimit": 10000
     },
     "inputWidgets": {},
     "nuid": "4d2bf823-2454-4d18-953a-f5d69c048789",
     "showTitle": false,
     "tableResultSettingsMap": {},
     "title": ""
    }
   },
   "outputs": [],
   "source": [
    "%sql\n",
    "SELECT \n",
    "  column_name,\n",
    "  source_count,\n",
    "  target_count,\n",
    "  CASE WHEN source_count != target_count THEN 1 ELSE 0 END AS mismatch_flag\n",
    "FROM (\n",
    "  SELECT 'id' AS column_name,\n",
    "    (SELECT COUNT(id) FROM demo_source) AS source_count,\n",
    "    (SELECT COUNT(id) FROM demo_target) AS target_count\n",
    "  UNION ALL\n",
    "  SELECT 'name' AS column_name,\n",
    "    (SELECT COUNT(name) FROM demo_source),\n",
    "    (SELECT COUNT(name) FROM demo_target)\n",
    "  UNION ALL\n",
    "  SELECT 'value' AS column_name,\n",
    "    (SELECT COUNT(value) FROM demo_source),\n",
    "    (SELECT COUNT(value) FROM demo_target)\n",
    ") t\n"
   ]
  }
 ],
 "metadata": {
  "application/vnd.databricks.v1+notebook": {
   "computePreferences": null,
   "dashboards": [],
   "environmentMetadata": {
    "base_environment": "",
    "environment_version": "3"
   },
   "inputWidgetPreferences": null,
   "language": "python",
   "notebookMetadata": {
    "mostRecentlyExecutedCommandWithImplicitDF": {
     "commandId": 7825458420205218,
     "dataframes": [
      "_sqldf"
     ]
    },
    "pythonIndentUnit": 4
   },
   "notebookName": "Alert Demo",
   "widgets": {
    "run_count": {
     "currentValue": "3",
     "nuid": "63697616-ed31-4495-a8d6-87fb328973d7",
     "typedWidgetInfo": {
      "autoCreated": false,
      "defaultValue": "1",
      "label": null,
      "name": "run_count",
      "options": {
       "widgetDisplayType": "Text",
       "validationRegex": null
      },
      "parameterDataType": "String"
     },
     "widgetInfo": {
      "widgetType": "text",
      "defaultValue": "1",
      "label": null,
      "name": "run_count",
      "options": {
       "widgetType": "text",
       "autoCreated": null,
       "validationRegex": null
      }
     }
    }
   }
  },
  "language_info": {
   "name": "python"
  }
 },
 "nbformat": 4,
 "nbformat_minor": 0
}
