{
 "cells": [
  {
   "cell_type": "code",
   "execution_count": 0,
   "metadata": {
    "application/vnd.databricks.v1+cell": {
     "cellMetadata": {
      "byteLimit": 2048000,
      "implicitDf": true,
      "rowLimit": 10000
     },
     "inputWidgets": {},
     "nuid": "002c30ad-6cce-4d23-9af2-6f01bce53c2f",
     "showTitle": false,
     "tableResultSettingsMap": {},
     "title": ""
    }
   },
   "outputs": [],
   "source": [
    "%sql\n",
    "-- Bronze layer counts (example: customers_raw and sales_raw)\n",
    "SELECT 'bronze.customers_raw' AS table_name, YEAR(signup_date) AS year, COUNT(*) AS row_count\n",
    "FROM lakeflow_demo.bronze.customers_raw\n",
    "GROUP BY YEAR(signup_date)\n",
    "UNION ALL\n",
    "SELECT 'bronze.sales_raw' AS table_name, YEAR(transaction_date) AS year, COUNT(*) AS row_count\n",
    "FROM lakeflow_demo.bronze.sales_raw\n",
    "GROUP BY YEAR(transaction_date);\n",
    "\n",
    "-- Silver layer counts (customers_cleaned, sales_cleaned)\n",
    "SELECT 'silver.customers_cleaned' AS table_name, YEAR(signup_date) AS year, COUNT(*) AS row_count\n",
    "FROM lakeflow_demo.silver.customers_cleaned\n",
    "GROUP BY YEAR(signup_date)\n",
    "UNION ALL\n",
    "SELECT 'silver.sales_cleaned' AS table_name, YEAR(transaction_date) AS year, COUNT(*) AS row_count\n",
    "FROM lakeflow_demo.silver.sales_cleaned\n",
    "GROUP BY YEAR(transaction_date);\n",
    "\n",
    "-- Gold layer counts (dim_customers, dim_products, dim_dates, fact_sales)\n",
    "SELECT 'gold.dim_customers' AS table_name, YEAR(signup_date) AS year, COUNT(*) AS row_count\n",
    "FROM lakeflow_demo.gold.dim_customers\n",
    "GROUP BY YEAR(signup_date)\n",
    "UNION ALL\n",
    "SELECT 'gold.dim_products' AS table_name, NULL AS year, COUNT(*) AS row_count\n",
    "FROM lakeflow_demo.gold.dim_products\n",
    "UNION ALL\n",
    "SELECT 'gold.dim_dates' AS table_name, YEAR(date) AS year, COUNT(*) AS row_count\n",
    "FROM lakeflow_demo.gold.dim_dates\n",
    "GROUP BY YEAR(date)\n",
    "UNION ALL\n",
    "SELECT 'gold.fact_sales' AS table_name, YEAR(transaction_date) AS year, COUNT(*) AS row_count\n",
    "FROM lakeflow_demo.gold.fact_sales\n",
    "GROUP BY YEAR(transaction_date);\n"
   ]
  },
  {
   "cell_type": "code",
   "execution_count": 0,
   "metadata": {
    "application/vnd.databricks.v1+cell": {
     "cellMetadata": {
      "byteLimit": 2048000,
      "implicitDf": true,
      "rowLimit": 10000
     },
     "inputWidgets": {},
     "nuid": "71767fef-2b1a-4563-8ac3-bce6e16f985f",
     "showTitle": false,
     "tableResultSettingsMap": {},
     "title": ""
    }
   },
   "outputs": [],
   "source": [
    "%sql\n",
    "-- Bronze layer counts (example: customers_raw and sales_raw)\n",
    "SELECT 'bronze.customers_raw' AS table_name, YEAR(signup_date) AS year, COUNT(*) AS row_count\n",
    "FROM lakeflow_demo.bronze.customers_raw\n",
    "GROUP BY YEAR(signup_date)\n",
    "UNION ALL\n",
    "SELECT 'bronze.sales_raw' AS table_name, YEAR(transaction_date) AS year, COUNT(*) AS row_count\n",
    "FROM lakeflow_demo.bronze.sales_raw\n",
    "GROUP BY YEAR(transaction_date);\n",
    "\n",
    "-- Silver layer counts (customers_cleaned, sales_cleaned)\n",
    "SELECT 'silver.customers_cleaned' AS table_name, YEAR(signup_date) AS year, COUNT(*) AS row_count\n",
    "FROM lakeflow_demo.silver.customers_cleaned\n",
    "GROUP BY YEAR(signup_date)\n",
    "UNION ALL\n",
    "SELECT 'silver.sales_cleaned' AS table_name, YEAR(transaction_date) AS year, COUNT(*) AS row_count\n",
    "FROM lakeflow_demo.silver.sales_cleaned\n",
    "GROUP BY YEAR(transaction_date);\n",
    "\n",
    "-- Gold layer counts (dim_customers, dim_products, dim_dates, fact_sales)\n",
    "SELECT 'gold.dim_customers' AS table_name, YEAR(signup_date) AS year, COUNT(*) AS row_count\n",
    "FROM lakeflow_demo.gold.dim_customers\n",
    "GROUP BY YEAR(signup_date)\n",
    "UNION ALL\n",
    "SELECT 'gold.dim_products' AS table_name, NULL AS year, COUNT(*) AS row_count\n",
    "FROM lakeflow_demo.gold.dim_products\n",
    "UNION ALL\n",
    "SELECT 'gold.dim_dates' AS table_name, YEAR(date) AS year, COUNT(*) AS row_count\n",
    "FROM lakeflow_demo.gold.dim_dates\n",
    "GROUP BY YEAR(date)\n",
    "UNION ALL\n",
    "SELECT 'gold.fact_sales' AS table_name, YEAR(transaction_date) AS year, COUNT(*) AS row_count\n",
    "FROM lakeflow_demo.gold.fact_sales\n",
    "GROUP BY YEAR(transaction_date);\n"
   ]
  }
 ],
 "metadata": {
  "application/vnd.databricks.v1+notebook": {
   "computePreferences": null,
   "dashboards": [],
   "environmentMetadata": {
    "base_environment": "",
    "environment_version": "3"
   },
   "inputWidgetPreferences": null,
   "language": "python",
   "notebookMetadata": {
    "mostRecentlyExecutedCommandWithImplicitDF": {
     "commandId": 7176148096737016,
     "dataframes": [
      "_sqldf"
     ]
    },
    "pythonIndentUnit": 4
   },
   "notebookName": "Lakeflow Validate",
   "widgets": {}
  },
  "language_info": {
   "name": "python"
  }
 },
 "nbformat": 4,
 "nbformat_minor": 0
}
