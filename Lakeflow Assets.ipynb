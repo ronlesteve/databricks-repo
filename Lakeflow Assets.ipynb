{
 "cells": [
  {
   "cell_type": "code",
   "execution_count": 0,
   "metadata": {
    "application/vnd.databricks.v1+cell": {
     "cellMetadata": {
      "byteLimit": 2048000,
      "implicitDf": true,
      "rowLimit": 10000
     },
     "inputWidgets": {},
     "nuid": "ad7dc5a7-5d20-4249-9ab5-1462f5a857f3",
     "showTitle": false,
     "tableResultSettingsMap": {},
     "title": ""
    }
   },
   "outputs": [],
   "source": [
    "%sql\n",
    "-- Drop volume if exists\n",
    "DROP VOLUME IF EXISTS lakeflow_demo.bronze.landing;\n",
    "\n",
    "-- Drop schemas if exist (using CASCADE to drop all contained objects)\n",
    "DROP SCHEMA IF EXISTS lakeflow_demo.bronze CASCADE;\n",
    "DROP SCHEMA IF EXISTS lakeflow_demo.silver CASCADE;\n",
    "DROP SCHEMA IF EXISTS lakeflow_demo.gold CASCADE;\n",
    "\n",
    "-- Drop catalog if exists with cascade to drop contained schemas\n",
    "DROP CATALOG IF EXISTS lakeflow_demo CASCADE;"
   ]
  },
  {
   "cell_type": "code",
   "execution_count": 0,
   "metadata": {
    "application/vnd.databricks.v1+cell": {
     "cellMetadata": {
      "byteLimit": 2048000,
      "implicitDf": true,
      "rowLimit": 10000
     },
     "inputWidgets": {},
     "nuid": "108127ed-cf3f-4ac0-9548-c7106f121805",
     "showTitle": false,
     "tableResultSettingsMap": {},
     "title": ""
    }
   },
   "outputs": [],
   "source": [
    "%sql\n",
    "-- Create catalog\n",
    "CREATE CATALOG lakeflow_demo COMMENT 'Demo catalog for lakeflow medallion architecture';\n",
    "\n",
    "-- Create schemas\n",
    "CREATE SCHEMA lakeflow_demo.bronze COMMENT 'Bronze layer schema for raw data';\n",
    "CREATE SCHEMA lakeflow_demo.silver COMMENT 'Silver layer schema for cleaned/validated data';\n",
    "CREATE SCHEMA lakeflow_demo.gold   COMMENT 'Gold layer schema for curated star schema tables';\n",
    "\n",
    "-- Create managed volume for bronze landing data\n",
    "CREATE VOLUME lakeflow_demo.bronze.landing COMMENT 'Landing volume for bronze raw files';\n",
    "\n",
    "GRANT ALL PRIVILEGES ON CATALOG lakeflow_demo TO `ronlesteve@gmail.com`;"
   ]
  },
  {
   "cell_type": "code",
   "execution_count": 0,
   "metadata": {
    "application/vnd.databricks.v1+cell": {
     "cellMetadata": {
      "byteLimit": 2048000,
      "implicitDf": true,
      "rowLimit": 10000
     },
     "inputWidgets": {},
     "nuid": "477bd429-9094-4b31-b352-7660287f8d08",
     "showTitle": false,
     "tableResultSettingsMap": {},
     "title": ""
    }
   },
   "outputs": [],
   "source": [
    "# Create folders within the volume using dbutils.fs\n",
    "dbutils.fs.mkdirs(\"dbfs:/Volumes/lakeflow_demo/bronze/landing/customers\")\n",
    "dbutils.fs.mkdirs(\"dbfs:/Volumes/lakeflow_demo/bronze/landing/sales\")"
   ]
  }
 ],
 "metadata": {
  "application/vnd.databricks.v1+notebook": {
   "computePreferences": null,
   "dashboards": [],
   "environmentMetadata": {
    "base_environment": "",
    "environment_version": "3"
   },
   "inputWidgetPreferences": null,
   "language": "python",
   "notebookMetadata": {
    "mostRecentlyExecutedCommandWithImplicitDF": {
     "commandId": 6382470614527764,
     "dataframes": [
      "_sqldf"
     ]
    },
    "pythonIndentUnit": 4
   },
   "notebookName": "Lakeflow Assets",
   "widgets": {}
  },
  "language_info": {
   "name": "python"
  }
 },
 "nbformat": 4,
 "nbformat_minor": 0
}
