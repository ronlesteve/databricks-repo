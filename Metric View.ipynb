{
 "cells": [
  {
   "cell_type": "markdown",
   "metadata": {
    "application/vnd.databricks.v1+cell": {
     "cellMetadata": {},
     "inputWidgets": {},
     "nuid": "ee3ff27a-7d2a-4f8f-bbc4-9c02b3e7488d",
     "showTitle": false,
     "tableResultSettingsMap": {},
     "title": ""
    }
   },
   "source": [
    "# **Step 1: Generate Silver Layer Data with Faker (Simulating Orders)**\n",
    "Using Python with PySpark Faker (or similar) to create silver cleaned orders including order date in 2 years for YOY metrics:"
   ]
  },
  {
   "cell_type": "code",
   "execution_count": 0,
   "metadata": {
    "application/vnd.databricks.v1+cell": {
     "cellMetadata": {
      "byteLimit": 2048000,
      "rowLimit": 10000
     },
     "inputWidgets": {},
     "nuid": "39cea797-15c2-4497-8137-b7a460df76ed",
     "showTitle": false,
     "tableResultSettingsMap": {},
     "title": ""
    }
   },
   "outputs": [],
   "source": [
    "pip install faker"
   ]
  },
  {
   "cell_type": "code",
   "execution_count": 0,
   "metadata": {
    "application/vnd.databricks.v1+cell": {
     "cellMetadata": {
      "byteLimit": 2048000,
      "implicitDf": true,
      "rowLimit": 10000
     },
     "inputWidgets": {},
     "nuid": "0dbdbb73-6b0b-4e22-9f2e-460e14a45090",
     "showTitle": false,
     "tableResultSettingsMap": {},
     "title": ""
    }
   },
   "outputs": [],
   "source": [
    "from faker import Faker\n",
    "import random\n",
    "from datetime import datetime\n",
    "from pyspark.sql import SparkSession\n",
    "from pyspark.sql.types import StructType, StructField, StringType, DateType, DoubleType\n",
    "\n",
    "# Initialize Faker and Spark session\n",
    "faker = Faker()\n",
    "spark = SparkSession.builder.appName(\"GenerateSilverData\").getOrCreate()\n",
    "\n",
    "# Create schema in Databricks if not exists\n",
    "spark.sql(\"CREATE SCHEMA IF NOT EXISTS lakehouse_demo.silver\")\n",
    "\n",
    "# Generate fake orders for current and previous year\n",
    "def generate_fake_orders(num_records=1000):\n",
    "    orders = []\n",
    "    for _ in range(num_records):\n",
    "        order_id = faker.uuid4()\n",
    "        order_year = random.choice([2024, 2025])\n",
    "        start_date = datetime.strptime(f'{order_year}-01-01', '%Y-%m-%d').date()\n",
    "        end_date = datetime.strptime(f'{order_year}-12-31', '%Y-%m-%d').date()\n",
    "        order_date = faker.date_between(start_date=start_date, end_date=end_date)\n",
    "        customer_id = f'cust_{random.randint(1, 100)}'\n",
    "        item_id = f'item_{random.randint(1, 50)}'\n",
    "        amount = round(random.uniform(10.0, 500.0), 2)\n",
    "        orders.append((order_id, order_date, customer_id, item_id, amount))\n",
    "    return orders\n",
    "\n",
    "# Define schema for PySpark DataFrame\n",
    "schema = StructType([\n",
    "    StructField(\"order_id\", StringType(), False),\n",
    "    StructField(\"order_date\", DateType(), False),\n",
    "    StructField(\"customer_id\", StringType(), False),\n",
    "    StructField(\"item_id\", StringType(), False),\n",
    "    StructField(\"amount\", DoubleType(), False)\n",
    "])\n",
    "\n",
    "# Generate data and create DataFrame\n",
    "data = generate_fake_orders(1000)\n",
    "df = spark.createDataFrame(data, schema)\n",
    "\n",
    "# Write to silver Delta table in the created schema\n",
    "df.write.format(\"delta\").mode(\"overwrite\").saveAsTable(\"lakehouse_demo.silver.orders_cleaned\")"
   ]
  },
  {
   "cell_type": "markdown",
   "metadata": {
    "application/vnd.databricks.v1+cell": {
     "cellMetadata": {},
     "inputWidgets": {},
     "nuid": "1afd5c06-c79a-451c-ba84-32bdf8b1848b",
     "showTitle": false,
     "tableResultSettingsMap": {},
     "title": ""
    }
   },
   "source": [
    "# Step 2: Create Gold Layer Aggregations\n",
    "Create aggregated gold customer spending table that includes year-based counts for YOY metrics:"
   ]
  },
  {
   "cell_type": "code",
   "execution_count": 0,
   "metadata": {
    "application/vnd.databricks.v1+cell": {
     "cellMetadata": {
      "byteLimit": 2048000,
      "implicitDf": true,
      "rowLimit": 10000
     },
     "inputWidgets": {},
     "nuid": "20815c31-094c-4dd3-9999-45185c62376c",
     "showTitle": false,
     "tableResultSettingsMap": {},
     "title": ""
    }
   },
   "outputs": [],
   "source": [
    "%sql\n",
    "-- Create schema if not exists\n",
    "CREATE SCHEMA IF NOT EXISTS lakehouse_demo.gold;\n",
    "\n",
    "-- Create or replace dimension table for customers\n",
    "CREATE OR REPLACE TABLE lakehouse_demo.gold.dim_customer AS\n",
    "SELECT DISTINCT\n",
    "  customer_id,\n",
    "  customer_id AS customer_key -- surrogate key, can be enhanced as needed\n",
    "FROM lakehouse_demo.silver.orders_cleaned;\n",
    "\n",
    "-- Create or replace fact table for orders\n",
    "CREATE OR REPLACE TABLE lakehouse_demo.gold.fact_customer_orders AS\n",
    "SELECT\n",
    "  customer_id AS customer_key,\n",
    "  order_id,\n",
    "  order_date,\n",
    "  amount\n",
    "FROM lakehouse_demo.silver.orders_cleaned;"
   ]
  },
  {
   "cell_type": "markdown",
   "metadata": {
    "application/vnd.databricks.v1+cell": {
     "cellMetadata": {},
     "inputWidgets": {},
     "nuid": "ec6c9c0f-f2db-4a79-bc82-cd7aeb0fd700",
     "showTitle": false,
     "tableResultSettingsMap": {},
     "title": ""
    }
   },
   "source": [
    "# Step 3: Create the Metric View using this YML\n",
    "-- Create a metric view to centralize and standardize customer spending KPIs with year-over-year growth calculation"
   ]
  },
  {
   "cell_type": "code",
   "execution_count": 0,
   "metadata": {
    "application/vnd.databricks.v1+cell": {
     "cellMetadata": {},
     "inputWidgets": {},
     "nuid": "9aeefe93-56db-4390-87d6-ea9076f77f35",
     "showTitle": false,
     "tableResultSettingsMap": {},
     "title": ""
    }
   },
   "outputs": [],
   "source": [
    "# version: 0.1\n",
    "# source: lakehouse_demo.gold.fact_customer_orders\n",
    "#\n",
    "# dimensions:\n",
    "#   - name: Customer Key\n",
    "#     expr: customer_key\n",
    "#   - name: Order Year\n",
    "#     expr: YEAR(order_date)\n",
    "#\n",
    "# measures:\n",
    "#   - name: Total Orders\n",
    "#     expr: COUNT(DISTINCT order_id)\n",
    "#\n",
    "#   - name: Total Spent\n",
    "#     expr: SUM(amount)\n",
    "#\n",
    "#   - name: Total Orders Current Year\n",
    "#     expr: COUNT(DISTINCT CASE WHEN YEAR(order_date) = YEAR(CURRENT_DATE()) THEN order_id END)\n",
    "#\n",
    "#   - name: Total Orders Last Year\n",
    "#     expr: COUNT(DISTINCT CASE WHEN YEAR(order_date) = YEAR(CURRENT_DATE()) - 1 THEN order_id END)\n",
    "#\n",
    "#   - name: YoY Order Growth Pct\n",
    "#     expr: |\n",
    "#       CASE \n",
    "#         WHEN MEASURE(`Total Orders Last Year`) = 0 THEN NULL\n",
    "#         ELSE ((MEASURE(`Total Orders Current Year`) * 1.0 / MEASURE(`Total Orders Last Year`)) - 1) * 100\n",
    "#       END"
   ]
  },
  {
   "cell_type": "markdown",
   "metadata": {
    "application/vnd.databricks.v1+cell": {
     "cellMetadata": {},
     "inputWidgets": {},
     "nuid": "0242b5d4-0771-4a04-b49d-33e7198c8b4e",
     "showTitle": false,
     "tableResultSettingsMap": {},
     "title": ""
    }
   },
   "source": [
    "# Step 4: Querying the Metric View\n",
    "Querying metric views ensures consistent, centralized business metrics by abstracting complex calculations into a reusable layer, reducing duplication and errors. Metric views can also be used across dashboards, notebooks, and AI tools, enabling flexible, governed analytics and natural language exploration for business users."
   ]
  },
  {
   "cell_type": "code",
   "execution_count": 0,
   "metadata": {
    "application/vnd.databricks.v1+cell": {
     "cellMetadata": {
      "byteLimit": 2048000,
      "implicitDf": true,
      "rowLimit": 10000
     },
     "inputWidgets": {},
     "nuid": "4d15a848-5d8c-4139-a633-c2f4bb147631",
     "showTitle": false,
     "tableResultSettingsMap": {},
     "title": ""
    }
   },
   "outputs": [],
   "source": [
    "%sql\n",
    "SELECT\n",
    "  `Customer Key`,\n",
    "  MEASURE(`Total Orders`) AS total_orders,\n",
    "  MEASURE(`Total Spent`) AS total_spent,\n",
    "  MEASURE(`Total Orders Current Year`) AS total_orders_current_year,\n",
    "  MEASURE(`Total Orders Last Year`) AS total_orders_last_year,\n",
    "  MEASURE(`YoY Order Growth Pct`) AS yoy_growth_pct\n",
    "FROM lakehouse_demo.gold.customer_spending_metrics\n",
    "GROUP BY ALL\n",
    "ORDER BY yoy_growth_pct DESC\n",
    "LIMIT 20;"
   ]
  },
  {
   "cell_type": "markdown",
   "metadata": {
    "application/vnd.databricks.v1+cell": {
     "cellMetadata": {},
     "inputWidgets": {},
     "nuid": "da3c54f3-f807-472a-ac33-5ea1bc361540",
     "showTitle": false,
     "tableResultSettingsMap": {},
     "title": ""
    }
   },
   "source": [
    "# Step 5: Visualize the data with Pandas and Python"
   ]
  },
  {
   "cell_type": "code",
   "execution_count": 0,
   "metadata": {
    "application/vnd.databricks.v1+cell": {
     "cellMetadata": {
      "byteLimit": 2048000,
      "rowLimit": 10000
     },
     "inputWidgets": {},
     "nuid": "3e8d3211-4eee-41d7-b85b-b79fd5bcac5f",
     "showTitle": false,
     "tableResultSettingsMap": {},
     "title": ""
    }
   },
   "outputs": [],
   "source": [
    "# _sqldf contains the DataFrame from the last SQL cell\n",
    "pandas_df = _sqldf.toPandas()\n",
    "\n",
    "import matplotlib.pyplot as plt\n",
    "import seaborn as sns\n",
    "\n",
    "sns.set(style=\"whitegrid\")\n",
    "plt.figure(figsize=(12, 6))\n",
    "\n",
    "# Horizontal bar plot for YoY Order Growth %\n",
    "sns.barplot(data=pandas_df, y='Customer Key', x='yoy_growth_pct', palette='viridis')\n",
    "\n",
    "plt.title(\"Top 20 Customers by YoY Order Growth %\")\n",
    "plt.xlabel(\"Year-over-Year Order Growth (%)\")\n",
    "plt.ylabel(\"Customer Key\")\n",
    "plt.tight_layout()\n",
    "plt.show()\n"
   ]
  },
  {
   "cell_type": "code",
   "execution_count": 0,
   "metadata": {
    "application/vnd.databricks.v1+cell": {
     "cellMetadata": {
      "byteLimit": 2048000,
      "implicitDf": true,
      "rowLimit": 10000
     },
     "inputWidgets": {},
     "nuid": "749bb7cc-03c7-44c2-b8bd-39ce18c086f5",
     "showTitle": false,
     "tableResultSettingsMap": {},
     "title": ""
    }
   },
   "outputs": [],
   "source": [
    "%sql\n",
    "DROP VIEW IF EXISTS lakehouse_demo.gold.customer_spending_metrics;"
   ]
  }
 ],
 "metadata": {
  "application/vnd.databricks.v1+notebook": {
   "computePreferences": null,
   "dashboards": [
    {
     "elements": [
      {
       "dashboardResultIndex": 0,
       "elementNUID": "4d15a848-5d8c-4139-a633-c2f4bb147631",
       "elementType": "command",
       "guid": "ad739452-e616-4073-be88-0dac103d607d",
       "options": null,
       "position": {
        "height": 12,
        "width": 20,
        "x": 0,
        "y": 0,
        "z": null
       },
       "resultIndex": null
      }
     ],
     "globalVars": {},
     "guid": "",
     "layoutOption": {
      "grid": true,
      "stack": true
     },
     "nuid": "2781b17e-1085-4d0f-b6bb-e23282665ef9",
     "origId": 8159467159321774,
     "title": "Untitled",
     "version": "DashboardViewV1",
     "width": 1024
    }
   ],
   "environmentMetadata": {
    "base_environment": "",
    "environment_version": "3"
   },
   "inputWidgetPreferences": null,
   "language": "python",
   "notebookMetadata": {
    "mostRecentlyExecutedCommandWithImplicitDF": {
     "commandId": 5857250730013802,
     "dataframes": [
      "_sqldf"
     ]
    },
    "pythonIndentUnit": 4
   },
   "notebookName": "Metric View",
   "widgets": {}
  },
  "language_info": {
   "name": "python"
  }
 },
 "nbformat": 4,
 "nbformat_minor": 0
}
