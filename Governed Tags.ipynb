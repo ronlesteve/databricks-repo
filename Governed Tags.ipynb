{
 "cells": [
  {
   "cell_type": "markdown",
   "metadata": {
    "application/vnd.databricks.v1+cell": {
     "cellMetadata": {},
     "inputWidgets": {},
     "nuid": "730b4c94-6593-478a-bf90-c67976fb49e4",
     "showTitle": false,
     "tableResultSettingsMap": {},
     "title": ""
    }
   },
   "source": [
    "Governed Tags Demo: \n",
    "Programatically Creating Governed Tags"
   ]
  },
  {
   "cell_type": "code",
   "execution_count": 0,
   "metadata": {
    "application/vnd.databricks.v1+cell": {
     "cellMetadata": {
      "byteLimit": 2048000,
      "rowLimit": 10000
     },
     "inputWidgets": {},
     "nuid": "e2eb68c9-b1cc-43b5-aec6-bb4e80315d3b",
     "showTitle": false,
     "tableResultSettingsMap": {},
     "title": ""
    }
   },
   "outputs": [],
   "source": [
    "import requests\n",
    "token = dbutils.secrets.get(scope=\"governed-tags-scope\", key=\"governed-tags-key\")\n",
    "\n",
    "response = requests.get(\n",
    "    f\"https://adb-11214.141512.azuredatabricks.net/api/2.1/unity-catalog/catalogs\",\n",
    "    headers={\"Authorization\": f\"Bearer {token}\"}\n",
    ")\n",
    "print(response.status_code, response.text)\n"
   ]
  },
  {
   "cell_type": "code",
   "execution_count": 0,
   "metadata": {
    "application/vnd.databricks.v1+cell": {
     "cellMetadata": {
      "byteLimit": 2048000,
      "rowLimit": 10000
     },
     "inputWidgets": {},
     "nuid": "86e2ff91-ae50-4ce1-8378-cc351f36354a",
     "showTitle": false,
     "tableResultSettingsMap": {},
     "title": ""
    }
   },
   "outputs": [],
   "source": [
    "import requests\n",
    "import json\n",
    "\n",
    "# Set your Databricks workspace URL\n",
    "workspace_url = \"https://adb-11214.141512.azuredatabricks.net\"  # e.g. https://adb-xxxx.xx.azuredatabricks.net\n",
    "\n",
    "# Get your access token securely from Databricks secrets\n",
    "token = dbutils.secrets.get(scope=\"governed-tags-scope\", key=\"governed-tags-key\")\n",
    "\n",
    "headers = {\n",
    "    \"Authorization\": f\"Bearer {token}\",\n",
    "    \"Content-Type\": \"application/json\"\n",
    "}\n",
    "\n",
    "# Define list of governed tags to create\n",
    "governed_tags = [\n",
    "    {\n",
    "        \"tag_key\": \"data_owner\",\n",
    "        \"description\": \"Identifies the team or individual responsible for data quality and lifecycle.\",\n",
    "        \"allowed_values\": [\"Finance\", \"HR\", \"Marketing\", \"Legal\", \"Operations\"]\n",
    "    },\n",
    "    {\n",
    "        \"tag_key\": \"data_classification\",\n",
    "        \"description\": \"Used for regulatory classification such as PII, PCI, HIPAA, GDPR, or None.\",\n",
    "        \"allowed_values\": [\"PII\", \"PCI\", \"HIPAA\", \"GDPR\", \"None\"]\n",
    "    },\n",
    "    {\n",
    "        \"tag_key\": \"data_retention\",\n",
    "        \"description\": \"Specifies retention policy duration.\",\n",
    "        \"allowed_values\": [\"30_days\", \"1_year\", \"7_years\", \"indefinite\"]\n",
    "    },\n",
    "    {\n",
    "        \"tag_key\": \"data_source\",\n",
    "        \"description\": \"Indicates the origin of the data.\",\n",
    "        \"allowed_values\": [\"CRM\", \"ERP\", \"WebLogs\", \"IoT\"]\n",
    "    },\n",
    "    {\n",
    "        \"tag_key\": \"data_status\",\n",
    "        \"description\": \"Flags data lifecycle stages.\",\n",
    "        \"allowed_values\": [\"Active\", \"Archived\", \"Deprecated\", \"Certified\"]\n",
    "    },\n",
    "    {\n",
    "        \"tag_key\": \"project_code\",\n",
    "        \"description\": \"Assigns data assets to specific projects or cost centers.\",\n",
    "        \"allowed_values\": [\"PROJ001\", \"PROJ002\", \"PROJ003\"]\n",
    "    },\n",
    "    {\n",
    "        \"tag_key\": \"sensitivity_level\",\n",
    "        \"description\": \"Indicates data sensitivity levels.\",\n",
    "        \"allowed_values\": [\"Low\", \"Medium\", \"High\", \"Restricted\"]\n",
    "    },\n",
    "    {\n",
    "        \"tag_key\": \"business_unit\",\n",
    "        \"description\": \"Tags assets by organizational unit.\",\n",
    "        \"allowed_values\": [\"Sales\", \"Operations\", \"R&D\", \"Support\"]\n",
    "    },\n",
    "    {\n",
    "        \"tag_key\": \"data_quality\",\n",
    "        \"description\": \"Indicates the data quality status.\",\n",
    "        \"allowed_values\": [\"Validated\", \"Reviewed\", \"Unverified\"]\n",
    "    },\n",
    "    {\n",
    "        \"tag_key\": \"confidentiality_level\",\n",
    "        \"description\": \"Specifies confidentiality governance levels.\",\n",
    "        \"allowed_values\": [\"Internal Use Only\", \"Confidential\", \"Top Secret\"]\n",
    "    }\n",
    "]\n",
    "\n",
    "# API endpoint\n",
    "api_url = f\"{workspace_url}/api/2.1/unity-catalog/governed-tags\"\n",
    "\n",
    "# Function to create a governed tag\n",
    "def create_governed_tag(tag):\n",
    "    response = requests.post(\n",
    "        api_url,\n",
    "        headers=headers,\n",
    "        json=tag\n",
    "    )\n",
    "    if response.status_code == 200:\n",
    "        print(f\"Created tag '{tag['tag_key']}' successfully.\")\n",
    "    elif response.status_code == 409:  # Conflict, tag exists\n",
    "        print(f\"Tag '{tag['tag_key']}' already exists.\")\n",
    "    else:\n",
    "        print(f\"Failed to create tag '{tag['tag_key']}': {response.status_code} - {response.text}\")\n",
    "\n",
    "# Iterate over governed tags and create each\n",
    "for tag in governed_tags:\n",
    "    create_governed_tag(tag)\n"
   ]
  },
  {
   "cell_type": "markdown",
   "metadata": {
    "application/vnd.databricks.v1+cell": {
     "cellMetadata": {},
     "inputWidgets": {},
     "nuid": "3426b241-2708-4d54-ae45-10f63c415dd0",
     "showTitle": false,
     "tableResultSettingsMap": {},
     "title": ""
    }
   },
   "source": [
    "Create Catalog, Schema, Table, & Apply Governed Tags to Tables and Columns"
   ]
  },
  {
   "cell_type": "code",
   "execution_count": 0,
   "metadata": {
    "application/vnd.databricks.v1+cell": {
     "cellMetadata": {
      "byteLimit": 2048000,
      "implicitDf": true,
      "rowLimit": 10000
     },
     "inputWidgets": {},
     "nuid": "eb211482-1f82-4b29-aa7a-808c73cb9b80",
     "showTitle": false,
     "tableResultSettingsMap": {},
     "title": ""
    }
   },
   "outputs": [],
   "source": [
    "%sql\n",
    "-- Create catalog and schema\n",
    "CREATE CATALOG IF NOT EXISTS governed_tags_sample;\n",
    "USE CATALOG governed_tags_sample;\n",
    "\n",
    "CREATE SCHEMA IF NOT EXISTS silver;\n",
    "USE SCHEMA silver;\n",
    "\n",
    "-- Create tables without tags first\n",
    "CREATE TABLE IF NOT EXISTS customer_public (\n",
    "  customer_id INT,\n",
    "  name STRING,\n",
    "  email STRING\n",
    ");\n",
    "\n",
    "CREATE TABLE IF NOT EXISTS employee_confidential (\n",
    "  employee_id INT,\n",
    "  name STRING,\n",
    "  ssn STRING,\n",
    "  salary DECIMAL(10,2)\n",
    ");\n",
    "\n",
    "CREATE TABLE IF NOT EXISTS finance_internal (\n",
    "  transaction_id INT,\n",
    "  account_no STRING,\n",
    "  amount DECIMAL(10,2),\n",
    "  audit_info STRING\n",
    ");\n",
    "\n",
    "-- Apply governed tags on tables\n",
    "ALTER TABLE governed_tags_sample.silver.customer_public\n",
    "SET TAGS ('data_owner' = 'Marketing',\n",
    "          'data_classification' = 'None',\n",
    "          'data_retention' = '1_year',\n",
    "          'data_source' = 'CRM',\n",
    "          'data_status' = 'Active',\n",
    "          'project_code' = 'PROJ001',\n",
    "          'sensitivity_level' = 'Low',\n",
    "          'business_unit' = 'Sales',\n",
    "          'data_quality' = 'Validated',\n",
    "          'confidentiality_level' = 'Internal Use Only'\n",
    ");\n",
    "\n",
    "ALTER TABLE governed_tags_sample.silver.employee_confidential\n",
    "SET TAGS ('data_owner' = 'HR',\n",
    "          'data_classification' = 'PII',\n",
    "          'data_retention' = '7_years',\n",
    "          'data_source' = 'ERP',\n",
    "          'data_status' = 'Active',\n",
    "          'project_code' = 'PROJ002',\n",
    "          'sensitivity_level' = 'High',\n",
    "          'business_unit' = 'Operations',\n",
    "          'data_quality' = 'Reviewed',\n",
    "          'confidentiality_level' = 'Confidential'\n",
    ");\n",
    "\n",
    "ALTER TABLE governed_tags_sample.silver.finance_internal\n",
    "SET TAGS ('data_owner' = 'Finance',\n",
    "          'data_classification' = 'None',\n",
    "          'data_retention' = '7_years',\n",
    "          'data_source' = 'WebLogs',\n",
    "          'data_status' = 'Active',\n",
    "          'project_code' = 'PROJ003',\n",
    "          'sensitivity_level' = 'Medium',\n",
    "          'business_unit' = 'Operations',\n",
    "          'data_quality' = 'Validated',\n",
    "          'confidentiality_level' = 'Internal Use Only'\n",
    ");\n",
    "\n",
    "-- Apply governed tags on columns\n",
    "ALTER TABLE governed_tags_sample.silver.customer_public\n",
    "ALTER COLUMN email SET TAGS ('confidentiality_level' = 'Internal Use Only');\n",
    "\n",
    "ALTER TABLE governed_tags_sample.silver.employee_confidential\n",
    "ALTER COLUMN ssn SET TAGS ('sensitivity_level' = 'Restricted');\n",
    "\n",
    "ALTER TABLE governed_tags_sample.silver.employee_confidential\n",
    "ALTER COLUMN salary SET TAGS ('confidentiality_level' = 'Confidential');\n",
    "\n",
    "ALTER TABLE governed_tags_sample.silver.finance_internal\n",
    "ALTER COLUMN audit_info SET TAGS ('sensitivity_level' = 'Restricted');\n"
   ]
  },
  {
   "cell_type": "markdown",
   "metadata": {
    "application/vnd.databricks.v1+cell": {
     "cellMetadata": {},
     "inputWidgets": {},
     "nuid": "3d982edf-cfa6-4e01-9b2f-a6a7142aa1e3",
     "showTitle": false,
     "tableResultSettingsMap": {},
     "title": ""
    }
   },
   "source": [
    "Remove Governed Tags from tables and columns"
   ]
  },
  {
   "cell_type": "code",
   "execution_count": 0,
   "metadata": {
    "application/vnd.databricks.v1+cell": {
     "cellMetadata": {
      "byteLimit": 2048000,
      "implicitDf": true,
      "rowLimit": 10000
     },
     "inputWidgets": {},
     "nuid": "29bbd600-df29-4dbc-a438-21baf8f3fb47",
     "showTitle": false,
     "tableResultSettingsMap": {},
     "title": ""
    }
   },
   "outputs": [],
   "source": [
    "%sql\n",
    "-- Unset table-level governed tags on customer_public\n",
    "UNSET TAG ON TABLE governed_tags_sample.silver.customer_public data_owner;\n",
    "UNSET TAG ON TABLE governed_tags_sample.silver.customer_public data_classification;\n",
    "UNSET TAG ON TABLE governed_tags_sample.silver.customer_public data_retention;\n",
    "UNSET TAG ON TABLE governed_tags_sample.silver.customer_public data_source;\n",
    "UNSET TAG ON TABLE governed_tags_sample.silver.customer_public data_status;\n",
    "UNSET TAG ON TABLE governed_tags_sample.silver.customer_public project_code;\n",
    "UNSET TAG ON TABLE governed_tags_sample.silver.customer_public sensitivity_level;\n",
    "UNSET TAG ON TABLE governed_tags_sample.silver.customer_public business_unit;\n",
    "UNSET TAG ON TABLE governed_tags_sample.silver.customer_public data_quality;\n",
    "UNSET TAG ON TABLE governed_tags_sample.silver.customer_public confidentiality_level;\n",
    "\n",
    "-- Unset table-level governed tags on employee_confidential\n",
    "UNSET TAG ON TABLE governed_tags_sample.silver.employee_confidential data_owner;\n",
    "UNSET TAG ON TABLE governed_tags_sample.silver.employee_confidential data_classification;\n",
    "UNSET TAG ON TABLE governed_tags_sample.silver.employee_confidential data_retention;\n",
    "UNSET TAG ON TABLE governed_tags_sample.silver.employee_confidential data_source;\n",
    "UNSET TAG ON TABLE governed_tags_sample.silver.employee_confidential data_status;\n",
    "UNSET TAG ON TABLE governed_tags_sample.silver.employee_confidential project_code;\n",
    "UNSET TAG ON TABLE governed_tags_sample.silver.employee_confidential sensitivity_level;\n",
    "UNSET TAG ON TABLE governed_tags_sample.silver.employee_confidential business_unit;\n",
    "UNSET TAG ON TABLE governed_tags_sample.silver.employee_confidential data_quality;\n",
    "UNSET TAG ON TABLE governed_tags_sample.silver.employee_confidential confidentiality_level;\n",
    "\n",
    "-- Unset table-level governed tags on finance_internal\n",
    "UNSET TAG ON TABLE governed_tags_sample.silver.finance_internal data_owner;\n",
    "UNSET TAG ON TABLE governed_tags_sample.silver.finance_internal data_classification;\n",
    "UNSET TAG ON TABLE governed_tags_sample.silver.finance_internal data_retention;\n",
    "UNSET TAG ON TABLE governed_tags_sample.silver.finance_internal data_source;\n",
    "UNSET TAG ON TABLE governed_tags_sample.silver.finance_internal data_status;\n",
    "UNSET TAG ON TABLE governed_tags_sample.silver.finance_internal project_code;\n",
    "UNSET TAG ON TABLE governed_tags_sample.silver.finance_internal sensitivity_level;\n",
    "UNSET TAG ON TABLE governed_tags_sample.silver.finance_internal business_unit;\n",
    "UNSET TAG ON TABLE governed_tags_sample.silver.finance_internal data_quality;\n",
    "UNSET TAG ON TABLE governed_tags_sample.silver.finance_internal confidentiality_level;\n",
    "\n",
    "-- Unset column-level governed tags\n",
    "UNSET TAG ON COLUMN governed_tags_sample.silver.customer_public.email confidentiality_level;\n",
    "\n",
    "UNSET TAG ON COLUMN governed_tags_sample.silver.employee_confidential.ssn sensitivity_level;\n",
    "UNSET TAG ON COLUMN governed_tags_sample.silver.employee_confidential.salary confidentiality_level;\n",
    "\n",
    "UNSET TAG ON COLUMN governed_tags_sample.silver.finance_internal.audit_info sensitivity_level;\n"
   ]
  },
  {
   "cell_type": "markdown",
   "metadata": {
    "application/vnd.databricks.v1+cell": {
     "cellMetadata": {},
     "inputWidgets": {},
     "nuid": "f1c5e3e2-2eee-481c-976e-b2970346ac0a",
     "showTitle": false,
     "tableResultSettingsMap": {},
     "title": ""
    }
   },
   "source": [
    "Programatically Delete Governed Tags"
   ]
  },
  {
   "cell_type": "code",
   "execution_count": 0,
   "metadata": {
    "application/vnd.databricks.v1+cell": {
     "cellMetadata": {},
     "inputWidgets": {},
     "nuid": "88dbd4c5-fe21-4758-a626-3ce3ceab213c",
     "showTitle": false,
     "tableResultSettingsMap": {},
     "title": ""
    }
   },
   "outputs": [],
   "source": [
    "import requests\n",
    "\n",
    "# Your workspace API endpoint (make sure no trailing slash)\n",
    "workspace_url = \"https://adb-11214.141512.azuredatabricks.net\"\n",
    "\n",
    "# Retrieve your token securely from Databricks secrets\n",
    "token = dbutils.secrets.get(scope=\"governed-tags-scope\", key=\"governed-tags-key\")\n",
    "\n",
    "headers = {\n",
    "    \"Authorization\": f\"Bearer {token}\"\n",
    "}\n",
    "\n",
    "governed_tag_keys = [\n",
    "    \"data_owner\",\n",
    "    \"data_classification\",\n",
    "    \"data_retention\",\n",
    "    \"data_source\",\n",
    "    \"data_status\",\n",
    "    \"project_code\",\n",
    "    \"sensitivity_level\",\n",
    "    \"business_unit\",\n",
    "    \"data_quality\",\n",
    "    \"confidentiality_level\"\n",
    "]\n",
    "\n",
    "for tag_key in governed_tag_keys:\n",
    "    response = requests.delete(\n",
    "        f\"{workspace_url}/api/2.1/unity-catalog/governed-tags/{tag_key}\",\n",
    "        headers=headers\n",
    "    )\n",
    "    if response.status_code == 200:\n",
    "        print(f\"Deleted governed tag '{tag_key}' successfully.\")\n",
    "    elif response.status_code == 404:\n",
    "        print(f\"Governed tag '{tag_key}' not found.\")\n",
    "    else:\n",
    "        print(f\"Failed to delete governed tag '{tag_key}': {response.status_code} - {response.text}\")\n"
   ]
  },
  {
   "cell_type": "markdown",
   "metadata": {
    "application/vnd.databricks.v1+cell": {
     "cellMetadata": {},
     "inputWidgets": {},
     "nuid": "e4cbd12c-9d59-4e77-a0da-e15decb118f5",
     "showTitle": false,
     "tableResultSettingsMap": {},
     "title": ""
    }
   },
   "source": [
    "Drop Tables & Catalog"
   ]
  },
  {
   "cell_type": "code",
   "execution_count": 0,
   "metadata": {
    "application/vnd.databricks.v1+cell": {
     "cellMetadata": {},
     "inputWidgets": {},
     "nuid": "d018673f-e650-4594-9762-83d934fc2429",
     "showTitle": false,
     "tableResultSettingsMap": {},
     "title": ""
    }
   },
   "outputs": [],
   "source": [
    "%sql\n",
    "-- Drop all tables by dropping the schema with cascade\n",
    "DROP SCHEMA IF EXISTS governed_tags_sample.silver CASCADE;\n",
    "\n",
    "-- Drop the catalog with cascade to remove all schemas and objects completely\n",
    "DROP CATALOG IF EXISTS governed_tags_sample CASCADE;\n"
   ]
  }
 ],
 "metadata": {
  "application/vnd.databricks.v1+notebook": {
   "computePreferences": null,
   "dashboards": [],
   "environmentMetadata": {
    "base_environment": "",
    "environment_version": "3"
   },
   "inputWidgetPreferences": null,
   "language": "python",
   "notebookMetadata": {
    "mostRecentlyExecutedCommandWithImplicitDF": {
     "commandId": 8517366238724636,
     "dataframes": [
      "_sqldf"
     ]
    },
    "pythonIndentUnit": 4
   },
   "notebookName": "Governed Tags",
   "widgets": {}
  },
  "language_info": {
   "name": "python"
  }
 },
 "nbformat": 4,
 "nbformat_minor": 0
}
